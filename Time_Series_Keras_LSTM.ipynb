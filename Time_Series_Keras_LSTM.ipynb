{
 "cells": [
  {
   "cell_type": "code",
   "execution_count": 36,
   "metadata": {},
   "outputs": [],
   "source": [
    "from pandas import read_csv\n",
    "import matplotlib.pyplot as plt\n",
    "from sklearn.preprocessing import MinMaxScaler"
   ]
  },
  {
   "cell_type": "code",
   "execution_count": 37,
   "metadata": {},
   "outputs": [],
   "source": [
    "series = read_csv('vix_2011_2019.csv', header=0, parse_dates=[0], index_col=0,      \n",
    "                   squeeze=True)"
   ]
  },
  {
   "cell_type": "code",
   "execution_count": 38,
   "metadata": {},
   "outputs": [
    {
     "name": "stdout",
     "output_type": "stream",
     "text": [
      "                 Open       High        Low      Close  Adj Close  Volume\n",
      "Date                                                                     \n",
      "2011-01-03  17.940001  17.950001  16.910000  17.610001  17.610001       0\n",
      "2011-01-04  17.340000  18.240000  17.330000  17.379999  17.379999       0\n",
      "2011-01-05  17.809999  17.950001  16.860001  17.020000  17.020000       0\n",
      "2011-01-06  16.799999  17.559999  16.790001  17.400000  17.400000       0\n",
      "2011-01-07  17.309999  18.070000  16.570000  17.139999  17.139999       0\n"
     ]
    }
   ],
   "source": [
    "print(series.head())"
   ]
  },
  {
   "cell_type": "code",
   "execution_count": 39,
   "metadata": {},
   "outputs": [],
   "source": [
    "series.drop(['Open', 'High', 'Low', 'Close', 'Volume'], axis=1, inplace=True)"
   ]
  },
  {
   "cell_type": "code",
   "execution_count": 40,
   "metadata": {},
   "outputs": [
    {
     "name": "stdout",
     "output_type": "stream",
     "text": [
      "            Adj Close\n",
      "Date                 \n",
      "2011-01-03  17.610001\n",
      "2011-01-04  17.379999\n",
      "2011-01-05  17.020000\n",
      "2011-01-06  17.400000\n",
      "2011-01-07  17.139999\n"
     ]
    }
   ],
   "source": [
    "print(series.head())"
   ]
  },
  {
   "cell_type": "code",
   "execution_count": 41,
   "metadata": {},
   "outputs": [
    {
     "data": {
      "image/png": "[encoded data removed]",
      "text/plain": [
       "<Figure size 432x288 with 1 Axes>"
      ]
     },
     "metadata": {
      "needs_background": "light"
     },
     "output_type": "display_data"
    }
   ],
   "source": [
    "series.plot()\n",
    "plt.show();"
   ]
  },
  {
   "cell_type": "code",
   "execution_count": 42,
   "metadata": {},
   "outputs": [],
   "source": [
    "import matplotlib.pyplot as plt\n",
    "import numpy as np\n",
    "import time\n",
    "from keras.layers.core import Dense, Activation, Dropout\n",
    "from keras.layers.recurrent import LSTM\n",
    "from keras.models import Sequential"
   ]
  },
  {
   "cell_type": "code",
   "execution_count": 43,
   "metadata": {},
   "outputs": [],
   "source": [
    "def convertSeriesToMatrix(vectorSeries, sequence_length):\n",
    "    matrix=[]\n",
    "    for i in range(len(vectorSeries)-sequence_length+1):\n",
    "        matrix.append(vectorSeries[i:i+sequence_length])\n",
    "    return matrix"
   ]
  },
  {
   "cell_type": "code",
   "execution_count": 44,
   "metadata": {},
   "outputs": [],
   "source": [
    "np.random.seed(2019)"
   ]
  },
  {
   "cell_type": "code",
   "execution_count": 45,
   "metadata": {},
   "outputs": [],
   "source": [
    "path_to_dataset = 'vix_2011_2019.csv'\n",
    "sequence_length = 20"
   ]
  },
  {
   "cell_type": "code",
   "execution_count": 68,
   "metadata": {},
   "outputs": [],
   "source": [
    "# vector to store the time series\n",
    "vector_vix = []\n",
    "with open(path_to_dataset) as f:\n",
    "    next(f) # skip the header row\n",
    "    for line in f:\n",
    "        fields = line.split(',')\n",
    "        vector_vix.append(float(fields[3]))"
   ]
  },
  {
   "cell_type": "code",
   "execution_count": 69,
   "metadata": {},
   "outputs": [
    {
     "data": {
      "text/plain": [
       "2068"
      ]
     },
     "execution_count": 69,
     "metadata": {},
     "output_type": "execute_result"
    }
   ],
   "source": [
    "len(vector_vix)"
   ]
  },
  {
   "cell_type": "code",
   "execution_count": 70,
   "metadata": {},
   "outputs": [
    {
     "name": "stdout",
     "output_type": "stream",
     "text": [
      "Data shape:  (2049, 20)\n"
     ]
    }
   ],
   "source": [
    "# convert the vector to a 2D matrix\n",
    "matrix_vix = convertSeriesToMatrix(vector_vix, sequence_length)\n",
    "\n",
    "# shift all data by mean\n",
    "matrix_vix = np.array(matrix_vix)\n",
    "shifted_value = matrix_vix.mean()\n",
    "matrix_vix -= shifted_value\n",
    "print(\"Data shape: \", matrix_vix.shape)"
   ]
  },
  {
   "cell_type": "code",
   "execution_count": 71,
   "metadata": {},
   "outputs": [],
   "source": [
    "# split dataset: 90% for training and 10% for testing\n",
    "train_row = int(round(0.9 * matrix_vix.shape[0]))\n",
    "train_set = matrix_vix[:train_row, :]\n",
    "\n",
    "# shuffle the training set (but do not shuffle the test set)\n",
    "np.random.shuffle(train_set)"
   ]
  },
  {
   "cell_type": "code",
   "execution_count": 72,
   "metadata": {},
   "outputs": [],
   "source": [
    "# the training set\n",
    "X_train = train_set[:, :-1]\n",
    "# the last column is the true value to compute the mean-squared-error loss\n",
    "y_train = train_set[:, -1] \n",
    "# the test set\n",
    "X_test = matrix_vix[train_row:, :-1]\n",
    "y_test = matrix_vix[train_row:, -1]"
   ]
  },
  {
   "cell_type": "code",
   "execution_count": 73,
   "metadata": {},
   "outputs": [],
   "source": [
    "# the input to LSTM layer needs to have the shape of (number of samples, the dimension of each element)\n",
    "X_train = np.reshape(X_train, (X_train.shape[0], X_train.shape[1], 1))\n",
    "X_test = np.reshape(X_test, (X_test.shape[0], X_test.shape[1], 1))"
   ]
  },
  {
   "cell_type": "code",
   "execution_count": 74,
   "metadata": {},
   "outputs": [
    {
     "name": "stdout",
     "output_type": "stream",
     "text": [
      "(1844, 19, 1)\n",
      "(205, 19, 1)\n"
     ]
    }
   ],
   "source": [
    "print(X_train.shape)\n",
    "print(X_test.shape)"
   ]
  },
  {
   "cell_type": "code",
   "execution_count": 75,
   "metadata": {},
   "outputs": [
    {
     "name": "stderr",
     "output_type": "stream",
     "text": [
      "C:\\Users\\Santhosh\\Anaconda3\\lib\\site-packages\\ipykernel_launcher.py:3: UserWarning: The `input_dim` and `input_length` arguments in recurrent layers are deprecated. Use `input_shape` instead.\n",
      "  This is separate from the ipykernel package so we can avoid doing imports until\n",
      "C:\\Users\\Santhosh\\Anaconda3\\lib\\site-packages\\ipykernel_launcher.py:3: UserWarning: Update your `LSTM` call to the Keras 2 API: `LSTM(return_sequences=True, input_shape=(None, 1), units=50)`\n",
      "  This is separate from the ipykernel package so we can avoid doing imports until\n",
      "C:\\Users\\Santhosh\\Anaconda3\\lib\\site-packages\\ipykernel_launcher.py:6: UserWarning: Update your `LSTM` call to the Keras 2 API: `LSTM(return_sequences=False, units=100)`\n",
      "  \n",
      "C:\\Users\\Santhosh\\Anaconda3\\lib\\site-packages\\ipykernel_launcher.py:10: UserWarning: Update your `Dense` call to the Keras 2 API: `Dense(activation=\"linear\", units=1)`\n",
      "  # Remove the CWD from sys.path while we load stuff.\n"
     ]
    }
   ],
   "source": [
    "model = Sequential()\n",
    "# layer 1: LSTM\n",
    "model.add(LSTM( input_dim=1, output_dim=50, return_sequences=True))\n",
    "model.add(Dropout(0.2))\n",
    "# layer 2: LSTM\n",
    "model.add(LSTM(output_dim=100, return_sequences=False))\n",
    "model.add(Dropout(0.2))\n",
    "# layer 3: dense\n",
    "# linear activation: a(x) = x\n",
    "model.add(Dense(output_dim=1, activation='linear'))\n",
    "# compile the model\n",
    "model.compile(loss=\"mse\", optimizer=\"rmsprop\")"
   ]
  },
  {
   "cell_type": "code",
   "execution_count": 76,
   "metadata": {},
   "outputs": [
    {
     "name": "stdout",
     "output_type": "stream",
     "text": [
      "Train on 1751 samples, validate on 93 samples\n",
      "Epoch 1/50\n",
      "1751/1751 [==============================] - 3s 2ms/step - loss: 21.5060 - val_loss: 19.4327\n",
      "Epoch 2/50\n",
      "1751/1751 [==============================] - 1s 359us/step - loss: 12.0358 - val_loss: 13.5283\n",
      "Epoch 3/50\n",
      "1751/1751 [==============================] - 1s 377us/step - loss: 8.9963 - val_loss: 9.9790\n",
      "Epoch 4/50\n",
      "1751/1751 [==============================] - 1s 350us/step - loss: 7.1520 - val_loss: 8.0333\n",
      "Epoch 5/50\n",
      "1751/1751 [==============================] - 1s 320us/step - loss: 6.1758 - val_loss: 6.2002\n",
      "Epoch 6/50\n",
      "1751/1751 [==============================] - 1s 319us/step - loss: 5.3656 - val_loss: 6.4619\n",
      "Epoch 7/50\n",
      "1751/1751 [==============================] - 1s 290us/step - loss: 5.2515 - val_loss: 5.1409\n",
      "Epoch 8/50\n",
      "1751/1751 [==============================] - 0s 281us/step - loss: 4.4554 - val_loss: 4.8654\n",
      "Epoch 9/50\n",
      "1751/1751 [==============================] - 0s 274us/step - loss: 4.1975 - val_loss: 4.6293\n",
      "Epoch 10/50\n",
      "1751/1751 [==============================] - 0s 279us/step - loss: 4.1521 - val_loss: 4.1685\n",
      "Epoch 11/50\n",
      "1751/1751 [==============================] - 1s 287us/step - loss: 3.7748 - val_loss: 4.2821\n",
      "Epoch 12/50\n",
      "1751/1751 [==============================] - 1s 301us/step - loss: 4.2301 - val_loss: 3.6916\n",
      "Epoch 13/50\n",
      "1751/1751 [==============================] - 1s 295us/step - loss: 3.3500 - val_loss: 3.6884\n",
      "Epoch 14/50\n",
      "1751/1751 [==============================] - 0s 266us/step - loss: 3.2858 - val_loss: 3.4136\n",
      "Epoch 15/50\n",
      "1751/1751 [==============================] - 1s 334us/step - loss: 3.0341 - val_loss: 3.1778\n",
      "Epoch 16/50\n",
      "1751/1751 [==============================] - 0s 269us/step - loss: 2.9787 - val_loss: 3.1851\n",
      "Epoch 17/50\n",
      "1751/1751 [==============================] - 0s 258us/step - loss: 2.9388 - val_loss: 2.9041\n",
      "Epoch 18/50\n",
      "1751/1751 [==============================] - 0s 265us/step - loss: 2.9214 - val_loss: 2.7056\n",
      "Epoch 19/50\n",
      "1751/1751 [==============================] - 0s 283us/step - loss: 2.7201 - val_loss: 2.7156\n",
      "Epoch 20/50\n",
      "1751/1751 [==============================] - 0s 266us/step - loss: 2.6102 - val_loss: 2.8188\n",
      "Epoch 21/50\n",
      "1751/1751 [==============================] - 1s 298us/step - loss: 2.8102 - val_loss: 2.3886\n",
      "Epoch 22/50\n",
      "1751/1751 [==============================] - 1s 305us/step - loss: 2.5119 - val_loss: 2.1803\n",
      "Epoch 23/50\n",
      "1751/1751 [==============================] - 1s 316us/step - loss: 2.6077 - val_loss: 2.4374\n",
      "Epoch 24/50\n",
      "1751/1751 [==============================] - 1s 339us/step - loss: 2.3837 - val_loss: 2.2934\n",
      "Epoch 25/50\n",
      "1751/1751 [==============================] - 1s 354us/step - loss: 2.3936 - val_loss: 2.3075\n",
      "Epoch 26/50\n",
      "1751/1751 [==============================] - 1s 293us/step - loss: 2.3314 - val_loss: 1.8041\n",
      "Epoch 27/50\n",
      "1751/1751 [==============================] - 1s 319us/step - loss: 2.2256 - val_loss: 1.6734\n",
      "Epoch 28/50\n",
      "1751/1751 [==============================] - 0s 262us/step - loss: 2.1857 - val_loss: 1.6254\n",
      "Epoch 29/50\n",
      "1751/1751 [==============================] - 0s 249us/step - loss: 2.1295 - val_loss: 1.5983\n",
      "Epoch 30/50\n",
      "1751/1751 [==============================] - 0s 219us/step - loss: 1.9598 - val_loss: 1.5475\n",
      "Epoch 31/50\n",
      "1751/1751 [==============================] - 0s 261us/step - loss: 2.2867 - val_loss: 1.6234\n",
      "Epoch 32/50\n",
      "1751/1751 [==============================] - 0s 273us/step - loss: 2.1765 - val_loss: 1.3479\n",
      "Epoch 33/50\n",
      "1751/1751 [==============================] - 0s 254us/step - loss: 1.8933 - val_loss: 1.4525\n",
      "Epoch 34/50\n",
      "1751/1751 [==============================] - 0s 226us/step - loss: 2.0588 - val_loss: 1.9185\n",
      "Epoch 35/50\n",
      "1751/1751 [==============================] - 0s 203us/step - loss: 2.1157 - val_loss: 1.3408\n",
      "Epoch 36/50\n",
      "1751/1751 [==============================] - 0s 206us/step - loss: 1.8602 - val_loss: 1.3437\n",
      "Epoch 37/50\n",
      "1751/1751 [==============================] - 0s 272us/step - loss: 1.7514 - val_loss: 1.1788\n",
      "Epoch 38/50\n",
      "1751/1751 [==============================] - 0s 248us/step - loss: 1.8632 - val_loss: 1.2855\n",
      "Epoch 39/50\n",
      "1751/1751 [==============================] - 0s 269us/step - loss: 2.0377 - val_loss: 1.0956\n",
      "Epoch 40/50\n",
      "1751/1751 [==============================] - 0s 229us/step - loss: 1.7404 - val_loss: 1.4579\n",
      "Epoch 41/50\n",
      "1751/1751 [==============================] - 0s 222us/step - loss: 1.7549 - val_loss: 1.0641\n",
      "Epoch 42/50\n",
      "1751/1751 [==============================] - 0s 236us/step - loss: 1.8419 - val_loss: 1.3101\n",
      "Epoch 43/50\n",
      "1751/1751 [==============================] - 0s 258us/step - loss: 1.6648 - val_loss: 1.0942\n",
      "Epoch 44/50\n",
      "1751/1751 [==============================] - 1s 311us/step - loss: 1.7713 - val_loss: 1.0513\n",
      "Epoch 45/50\n",
      "1751/1751 [==============================] - 1s 323us/step - loss: 1.6957 - val_loss: 1.4037\n",
      "Epoch 46/50\n",
      "1751/1751 [==============================] - 1s 324us/step - loss: 1.8088 - val_loss: 0.9748\n",
      "Epoch 47/50\n",
      "1751/1751 [==============================] - 1s 316us/step - loss: 1.6369 - val_loss: 0.9187\n",
      "Epoch 48/50\n",
      "1751/1751 [==============================] - 0s 270us/step - loss: 1.6601 - val_loss: 1.1912\n",
      "Epoch 49/50\n",
      "1751/1751 [==============================] - 0s 272us/step - loss: 1.6862 - val_loss: 1.0462\n",
      "Epoch 50/50\n",
      "1751/1751 [==============================] - 0s 277us/step - loss: 1.6767 - val_loss: 1.1813\n",
      "205/205 [==============================] - 0s 187us/step\n",
      "The mean squared error (MSE) on the test data set is 1.492 over 205 test samples.\n"
     ]
    }
   ],
   "source": [
    "model.fit(X_train, y_train, batch_size=512, epochs=50, validation_split=0.05, verbose=1)\n",
    "\n",
    "# evaluate the result\n",
    "test_mse = model.evaluate(X_test, y_test, verbose=1)\n",
    "print('The mean squared error (MSE) on the test data set is %.3f over %d test samples.' % (test_mse, len(y_test)))"
   ]
  },
  {
   "cell_type": "code",
   "execution_count": 77,
   "metadata": {},
   "outputs": [
    {
     "data": {
      "image/png": "[encoded data removed]",
      "text/plain": [
       "<Figure size 720x432 with 1 Axes>"
      ]
     },
     "metadata": {
      "needs_background": "light"
     },
     "output_type": "display_data"
    }
   ],
   "source": [
    "# get the predicted values\n",
    "predicted_values = model.predict(X_test)\n",
    "num_test_samples = len(predicted_values)\n",
    "predicted_values = np.reshape(predicted_values, (num_test_samples,1))\n",
    "\n",
    "# plot the results\n",
    "fig = plt.figure(figsize=(10,6))\n",
    "plt.plot(y_test + shifted_value)\n",
    "plt.plot(predicted_values + shifted_value)\n",
    "plt.xlabel('Date')\n",
    "plt.ylabel('VIX')\n",
    "plt.show();"
   ]
  },
  {
   "cell_type": "code",
   "execution_count": null,
   "metadata": {},
   "outputs": [],
   "source": []
  },
  {
   "cell_type": "code",
   "execution_count": null,
   "metadata": {},
   "outputs": [],
   "source": []
  },
  {
   "cell_type": "code",
   "execution_count": null,
   "metadata": {},
   "outputs": [],
   "source": []
  },
  {
   "cell_type": "code",
   "execution_count": null,
   "metadata": {},
   "outputs": [],
   "source": []
  }
 ],
 "metadata": {
  "kernelspec": {
   "display_name": "Python 3",
   "language": "python",
   "name": "python3"
  },
  "language_info": {
   "codemirror_mode": {
    "name": "ipython",
    "version": 3
   },
   "file_extension": ".py",
   "mimetype": "text/x-python",
   "name": "python",
   "nbconvert_exporter": "python",
   "pygments_lexer": "ipython3",
   "version": "3.6.6"
  }
 },
 "nbformat": 4,
 "nbformat_minor": 2
}
